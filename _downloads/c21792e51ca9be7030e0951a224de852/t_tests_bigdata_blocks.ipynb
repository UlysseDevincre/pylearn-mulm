{
  "nbformat_minor": 0,
  "metadata": {
    "kernelspec": {
      "display_name": "Python 3",
      "language": "python",
      "name": "python3"
    },
    "language_info": {
      "name": "python",
      "version": "3.5.2",
      "codemirror_mode": {
        "name": "ipython",
        "version": 3
      },
      "pygments_lexer": "ipython3",
      "file_extension": ".py",
      "mimetype": "text/x-python",
      "nbconvert_exporter": "python"
    }
  },
  "nbformat": 4,
  "cells": [
    {
      "outputs": [],
      "execution_count": null,
      "metadata": {
        "collapsed": false
      },
      "cell_type": "code",
      "source": [
        "%matplotlib inline"
      ]
    },
    {
      "metadata": {},
      "cell_type": "markdown",
      "source": [
        "\nT tests on big data blocks\n==========================\n\nCredit: E Duchesnay\n\n"
      ]
    },
    {
      "outputs": [],
      "execution_count": null,
      "metadata": {
        "collapsed": false
      },
      "cell_type": "code",
      "source": [
        "import numpy as np\nimport time\nimport tempfile\nfrom mulm import MUOLS\n\n\nprint(\"Create matrix\")\nstart_time = time.time()\n\nn = 1000\npx = 4\npy_noize = int(2e5)\npy_noize = int(1e6)\npy_info = 100\n\n## Build data\nbeta = np.array([1, 0, .5] + [0] * (px - 4) + [2]).reshape((px, 1))\nX = np.hstack([np.random.randn(n, px-1), np.ones((n, 1))]) # X with intercept\nf = tempfile.mktemp()\nY = np.random.randn(n, py_info + py_noize)\n# Causal model: add X on the first py_info variable\nY[:, :py_info] += np.dot(X, beta)\nprint(\"Save matrix to disk\")\nnp.save(f, Y)\ndel Y\n\ncontrasts = np.identity(X.shape[1])\n\n## Read data Y as a memory map"
      ]
    },
    {
      "outputs": [],
      "execution_count": null,
      "metadata": {
        "collapsed": false
      },
      "cell_type": "code",
      "source": [
        "Y_memmap = np.load(f + '.npy', mmap_mode='r')\n\n# univariate analysis: fit by blocks of 2**27 elements\nmuols = MUOLS(Y=Y_memmap, X=X)\ntime3 = time.time()\nmuols.fit(block=True, max_elements=2 ** 27)\ntime4 = time.time()\ntvals, pvals, dfs = muols.t_test(contrasts=contrasts,\n                                 pval=True,\n                                 two_tailed=True)\nprint(\"Mmap by block(max_elements=2 ** 27): \", time4 - time3)\ndel muols\n\n# univariate analysis: fit in one go\nmuols = MUOLS(Y=Y_memmap, X=X)\ntime5 = time.time()\nmuols.fit(block=False)\ntime6 = time.time()\ntvals, pvals, dfs = muols.t_test(contrasts=contrasts,\n                                 pval=True,\n                                 two_tailed=True)\n\nprint(\"Mmap no block: \", time6 - time5)\ndel muols\ndel Y_memmap\n\n## Load Y\n##########\nY = np.load(f + '.npy')\n\n# univariate analysis: fit by blocks of 2**27 elements\nmuols = MUOLS(Y=Y, X=X)\ntime9 = time.time()\nmuols.fit(block=True, max_elements=2 ** 27)\ntime10 = time.time()\ntvals, pvals, dfs = muols.t_test(contrasts=contrasts,\n                                 pval=True,\n                                 two_tailed=True)\nprint(\"Mumpy by block(max_elements=2 ** 27): \",time10 - time9)\ndel muols\n\n# univariate analysis: fit in one go\nmuols = MUOLS(Y=Y, X=X)\ntime11 = time.time()\nmuols.fit(block=False)\ntime12 = time.time()\ntvals, pvals, dfs = muols.t_test(contrasts=contrasts,\n                                 pval=True,\n                                 two_tailed=True)\nprint(\"Mumpy no block\", time12 - time11)\ndel muols\ndel Y"
      ]
    }
  ]
}