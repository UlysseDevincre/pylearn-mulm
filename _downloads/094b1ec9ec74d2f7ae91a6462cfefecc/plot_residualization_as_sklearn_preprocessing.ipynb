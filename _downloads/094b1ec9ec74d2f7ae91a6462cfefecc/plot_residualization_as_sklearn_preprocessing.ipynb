{
  "nbformat_minor": 0,
  "metadata": {
    "kernelspec": {
      "display_name": "Python 3",
      "language": "python",
      "name": "python3"
    },
    "language_info": {
      "name": "python",
      "version": "3.5.2",
      "codemirror_mode": {
        "name": "ipython",
        "version": 3
      },
      "pygments_lexer": "ipython3",
      "file_extension": ".py",
      "mimetype": "text/x-python",
      "nbconvert_exporter": "python"
    }
  },
  "nbformat": 4,
  "cells": [
    {
      "outputs": [],
      "execution_count": null,
      "metadata": {
        "collapsed": false
      },
      "cell_type": "code",
      "source": [
        "%matplotlib inline"
      ]
    },
    {
      "metadata": {},
      "cell_type": "markdown",
      "source": [
        "\nResidualization as sklearn\n==========================\n\nCredit: E Duchesnay\n\nResidualizer as pre-processing of supervized prediction:\n\nInput: X = age + site + e, target = age\n\nPreprocessing:\n- Residualize X for \"site\" adjusted for \"age\"\n- Learn to predict age on residualized data\n\nSince age is used in residualization, it MUST be fitted on training data only.\n\n"
      ]
    },
    {
      "outputs": [],
      "execution_count": null,
      "metadata": {
        "collapsed": false
      },
      "cell_type": "code",
      "source": [
        "import numpy as np\nimport pandas as pd\nfrom sklearn import linear_model\nfrom sklearn.model_selection import KFold\nfrom sklearn.preprocessing import StandardScaler\nfrom sklearn.pipeline import make_pipeline\nfrom sklearn.model_selection import cross_validate\nfrom sklearn import metrics\n\nfrom mulm.residualizer import Residualizer"
      ]
    },
    {
      "metadata": {},
      "cell_type": "markdown",
      "source": [
        "Dataset, here\n- X: is the input data of the predictive model and y is the target\n- Z: is the design matrix use to residualize the X\n\n"
      ]
    },
    {
      "outputs": [],
      "execution_count": null,
      "metadata": {
        "collapsed": false
      },
      "cell_type": "code",
      "source": [
        "site = np.array([-1] * 50 + [1] * 50)\nage = np.random.uniform(10, 40, size=100) + 5 * site\nX = np.random.randn(100, 5)\nX[:, 0] = -0.1 * age + site + np.random.normal(size=100)\nX[:, 1] = -0.1 * age + site + np.random.normal(size=100)\ndemographic_df = pd.DataFrame(dict(age=age, site=site.astype(object)))\ny = age"
      ]
    },
    {
      "metadata": {},
      "cell_type": "markdown",
      "source": [
        "Predictive model cross-validation\n\n"
      ]
    },
    {
      "outputs": [],
      "execution_count": null,
      "metadata": {
        "collapsed": false
      },
      "cell_type": "code",
      "source": [
        "lr = linear_model.Ridge(alpha=1)\nscaler = StandardScaler()\ncv = KFold(n_splits=5, random_state=42)"
      ]
    },
    {
      "metadata": {},
      "cell_type": "markdown",
      "source": [
        "Usage 1: Manual slicing of train/test data: use `Residualizer`\n\n"
      ]
    },
    {
      "outputs": [],
      "execution_count": null,
      "metadata": {
        "collapsed": false
      },
      "cell_type": "code",
      "source": [
        "residualizer = Residualizer(data=demographic_df, formula_res='site',\n                            formula_full='site + age')\nZ = residualizer.get_design_mat(data=demographic_df)\nscores = np.zeros((5, 2))\nfor i, (tr_idx, te_idx) in enumerate(cv.split(X, y)):\n    X_tr, X_te = X[tr_idx, :], X[te_idx, :]\n    Z_tr, Z_te = Z[tr_idx, :], Z[te_idx, :]\n    y_tr, y_te = y[tr_idx], y[te_idx]\n\n    # 1) Fit residualizer\n    residualizer.fit(X_tr, Z_tr)\n\n    # 2) Residualize\n    X_res_tr = residualizer.transform(X_tr, Z_tr)\n    X_res_te = residualizer.transform(X_te, Z_te)\n\n    X_res_tr = scaler.fit_transform(X_res_tr)\n    X_res_te = scaler.transform(X_res_te)\n\n    # 3) Fit predictor on train residualized data\n    lr.fit(X_res_tr, y_tr)\n\n    # 4) Predict on test residualized data\n    y_test_pred = lr.predict(X_res_te)\n\n    # 5) Compute metrics\n    scores[i, 0] = metrics.r2_score(y_te, y_test_pred)\n    scores[i, 1] = metrics.mean_absolute_error(y_te, y_test_pred)\n\nscores = pd.DataFrame(scores, columns=['r2', 'mae'])\n\nprint(\"Mean scores\")\nprint(scores.mean(axis=0))"
      ]
    },
    {
      "metadata": {},
      "cell_type": "markdown",
      "source": [
        "Usage 2: Usage with sklearn pipeline, cross_validate: use `ResidualizerEstimator`\n\n"
      ]
    },
    {
      "outputs": [],
      "execution_count": null,
      "metadata": {
        "collapsed": false
      },
      "cell_type": "code",
      "source": [
        "from mulm.residualizer import ResidualizerEstimator\n\nresidualizer = Residualizer(data=demographic_df, formula_res='site',\n                            formula_full='site + age')\n# Extract design matrix and pack it with X\nZ = residualizer.get_design_mat(data=demographic_df)\n\n# Wrap the residualizer\nresidualizer_wrapper = ResidualizerEstimator(residualizer)\nZX = residualizer_wrapper.pack(Z, X)\n\npipeline = make_pipeline(residualizer_wrapper, StandardScaler(), lr)\ncv_res = cross_validate(estimator=pipeline, X=ZX, y=y, cv=cv, n_jobs=5,\n                        scoring=['r2', 'neg_mean_absolute_error'])\n\nr2 = cv_res['test_r2'].mean()\nmae = np.mean(-cv_res['test_neg_mean_absolute_error'])\nprint(\"CV R2:%.4f, MAE:%.4f\" % (r2, mae))\nassert np.allclose(scores.mean(axis=0).values, np.array([r2, mae]))"
      ]
    }
  ]
}