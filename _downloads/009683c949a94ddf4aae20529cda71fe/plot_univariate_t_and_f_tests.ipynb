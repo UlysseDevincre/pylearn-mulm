{
  "nbformat_minor": 0,
  "metadata": {
    "kernelspec": {
      "display_name": "Python 3",
      "language": "python",
      "name": "python3"
    },
    "language_info": {
      "name": "python",
      "version": "3.5.2",
      "codemirror_mode": {
        "name": "ipython",
        "version": 3
      },
      "pygments_lexer": "ipython3",
      "file_extension": ".py",
      "mimetype": "text/x-python",
      "nbconvert_exporter": "python"
    }
  },
  "nbformat": 4,
  "cells": [
    {
      "outputs": [],
      "execution_count": null,
      "metadata": {
        "collapsed": false
      },
      "cell_type": "code",
      "source": [
        "%matplotlib inline"
      ]
    },
    {
      "metadata": {},
      "cell_type": "markdown",
      "source": [
        "\nUnivariate T and F tests\n========================\n\nCredit: E Duchesnay\n\nUnivariate statistics: F-test and T-test with MULM (Massive univariate linear model)\ncompared with statsmodel.\n\n"
      ]
    },
    {
      "outputs": [],
      "execution_count": null,
      "metadata": {
        "collapsed": false
      },
      "cell_type": "code",
      "source": [
        "import numpy as np\nimport mulm\nimport pandas as pd\nimport statsmodels.api as sm\nimport statsmodels.formula.api as smfrmla\nfrom collections import OrderedDict"
      ]
    },
    {
      "metadata": {},
      "cell_type": "markdown",
      "source": [
        "Example 1: Salary dataset\n-------------------------\n\nFit model a single model: `salary ~ experience + education + management`\n\n"
      ]
    },
    {
      "outputs": [],
      "execution_count": null,
      "metadata": {
        "collapsed": false
      },
      "cell_type": "code",
      "source": [
        "url = 'https://github.com/duchesnay/pystatsml/raw/master/datasets/salary_table.csv'\ndf = pd.read_csv(url)"
      ]
    },
    {
      "metadata": {},
      "cell_type": "markdown",
      "source": [
        "Fit with MULM\n\n"
      ]
    },
    {
      "outputs": [],
      "execution_count": null,
      "metadata": {
        "collapsed": false
      },
      "cell_type": "code",
      "source": [
        "Y = np.asarray(df.salary)[:, None].astype(float)\nX, t_contrasts, f_contrasts = mulm.design_matrix(formula=\"experience + education + management\", data=df)\nmod_mulm = mulm.MUOLS(Y, X).fit()\ntstat_mulm = OrderedDict((term, mod_mulm.t_test(t_contrasts[term], pval=True)) for term in t_contrasts)\nfstat_mulm = OrderedDict((term, mod_mulm.f_test(f_contrasts[term], pval=True)) for term in f_contrasts)\n\nprint(mod_mulm.coef)\nprint(pd.DataFrame(tstat_mulm, index=['tstat', 'pval', 'df']).T)\n# print(pd.DataFrame(fstat_mulm, index=['fstat', 'pval']).T)"
      ]
    },
    {
      "metadata": {},
      "cell_type": "markdown",
      "source": [
        "Fit with statsmodel\n\n"
      ]
    },
    {
      "outputs": [],
      "execution_count": null,
      "metadata": {
        "collapsed": false
      },
      "cell_type": "code",
      "source": [
        "mod_sm = smfrmla.ols('salary ~ experience + education + management', df).fit()\nprint(mod_sm.summary())\n\nfstat_sm = sm.stats.anova_lm(mod_sm, typ=2) # Type 2 ANOVA DataFrame\ntstat_sm = OrderedDict((term, (mod_sm.t_test(t_contrasts[term]).tvalue,\n                               mod_sm.t_test(t_contrasts[term]).pvalue,\n                               mod_sm.t_test(t_contrasts[term]).df_denom)) for term in t_contrasts)\n\n\nprint(fstat_sm)\nprint(pd.DataFrame(tstat_mulm, index=['tstat', 'pval', 'df']).T)"
      ]
    },
    {
      "metadata": {},
      "cell_type": "markdown",
      "source": [
        "Check equality of model parameters\n\n"
      ]
    },
    {
      "outputs": [],
      "execution_count": null,
      "metadata": {
        "collapsed": false
      },
      "cell_type": "code",
      "source": [
        "assert np.allclose(np.asarray(mod_sm.params), mod_mulm.coef[:, 0])"
      ]
    },
    {
      "metadata": {},
      "cell_type": "markdown",
      "source": [
        "Check equality of F-statistics\n\n"
      ]
    },
    {
      "outputs": [],
      "execution_count": null,
      "metadata": {
        "collapsed": false
      },
      "cell_type": "code",
      "source": [
        "assert np.allclose(np.asarray(fstat_sm.loc[:, \"F\"][:-1]),\n    np.asarray([fstat_mulm[iv][0][0] for iv in list(f_contrasts.keys())[1:]]))"
      ]
    },
    {
      "metadata": {},
      "cell_type": "markdown",
      "source": [
        "Check equality of P-values\n\n"
      ]
    },
    {
      "outputs": [],
      "execution_count": null,
      "metadata": {
        "collapsed": false
      },
      "cell_type": "code",
      "source": [
        "assert np.allclose(np.asarray(fstat_sm.loc[:, \"PR(>F)\"][:-1]),\n    np.asarray([fstat_mulm[iv][1][0] for iv in list(f_contrasts.keys())[1:]]))"
      ]
    },
    {
      "metadata": {},
      "cell_type": "markdown",
      "source": [
        "Example 2: Multiple targets: y_i = age + sex + site\n---------------------------------------------------\n\n"
      ]
    },
    {
      "metadata": {},
      "cell_type": "markdown",
      "source": [
        "dataset with 3 dependant variables `yi's` defined as:\nyi = b0 + b1 * age + b2 * sex + b3 * site\n\n"
      ]
    },
    {
      "outputs": [],
      "execution_count": null,
      "metadata": {
        "collapsed": false
      },
      "cell_type": "code",
      "source": [
        "age = np.random.normal(size=100)\nsex = np.random.choice([0, 1], 100)\nsex_c = [\"X%i\" % i for i in sex]\nsite = np.array([2] * 25 + [1] * 25 + [-1] * 50)\nsite_c = [\"S%i\" % i for i in site]\n\n# Independent variables\nx_df = pd.DataFrame(OrderedDict(age=age, sex=sex_c, site=site_c))\n\n# Dependent variables\ny_dict = OrderedDict(\n    y0 = 0.1 * age + 0.1 * sex + site + np.random.normal(size=100), # age and sex\n    y1 = 0.1 * age + 0.0 * sex + site + np.random.normal(size=100), # age only\n    y2 = 0.0 * age + 0.1 * sex + site + np.random.normal(size=100)) # sex only\n\n# for i in range(3, 10):\n#    y_dict[\"y%i\" % i] = 0.0 * age + 0.0 * sex + site + np.random.normal(size=100)\n\ny_df = pd.DataFrame(y_dict)\nY = np.asarray(y_df)\n\ndata = pd.concat((y_df, x_df), axis=1)"
      ]
    },
    {
      "metadata": {},
      "cell_type": "markdown",
      "source": [
        "Fit with MULM\n\n"
      ]
    },
    {
      "outputs": [],
      "execution_count": null,
      "metadata": {
        "collapsed": false
      },
      "cell_type": "code",
      "source": [
        "X, t_contrasts, f_contrasts = mulm.design_matrix(formula=\"age + sex + site\", data=x_df)\nmod_mulm = mulm.MUOLS(Y, X).fit()\nfstat_mulm = OrderedDict((term, mod_mulm.f_test(f_contrasts[term], pval=True)) for term in f_contrasts)"
      ]
    },
    {
      "metadata": {},
      "cell_type": "markdown",
      "source": [
        "With statsmodels\n\n"
      ]
    },
    {
      "outputs": [],
      "execution_count": null,
      "metadata": {
        "collapsed": false
      },
      "cell_type": "code",
      "source": [
        "import statsmodels.api as sm\nimport statsmodels.formula.api as smfrmla\n\nmod_sm = {dv:smfrmla.ols(\"%s ~ %s\" % (dv, \"age + sex + site\"), data=data).fit() for dv in y_df.columns}"
      ]
    },
    {
      "metadata": {},
      "cell_type": "markdown",
      "source": [
        "Check equality of model parameters\n\n"
      ]
    },
    {
      "outputs": [],
      "execution_count": null,
      "metadata": {
        "collapsed": false
      },
      "cell_type": "code",
      "source": [
        "for idx, dv in enumerate(y_df.columns):\n    assert np.allclose(np.asarray(mod_sm[dv].params), mod_mulm.coef[:, idx])"
      ]
    },
    {
      "metadata": {},
      "cell_type": "markdown",
      "source": [
        "Check equality of F-statistics\n\n"
      ]
    },
    {
      "outputs": [],
      "execution_count": null,
      "metadata": {
        "collapsed": false
      },
      "cell_type": "code",
      "source": [
        "fstat_sm = {dv:sm.stats.anova_lm(mod_sm[dv], typ=2) for dv in mod_sm}\n\nfor idx, dv in enumerate(y_df.columns):\n    assert np.allclose(np.asarray(fstat_sm[dv].loc[:, \"F\"][:-1]),\n        np.asarray([fstat_mulm[iv][0][idx] for iv in list(f_contrasts.keys())[1:]]))"
      ]
    },
    {
      "metadata": {},
      "cell_type": "markdown",
      "source": [
        "Check equality of P-values\n\n"
      ]
    },
    {
      "outputs": [],
      "execution_count": null,
      "metadata": {
        "collapsed": false
      },
      "cell_type": "code",
      "source": [
        "for idx, dv in enumerate(y_df.columns):\n    assert np.allclose(np.asarray(fstat_sm[dv].loc[:, \"PR(>F)\"][:-1]),\n        np.asarray([fstat_mulm[iv][1][idx] for iv in list(f_contrasts.keys())[1:]]))"
      ]
    }
  ]
}