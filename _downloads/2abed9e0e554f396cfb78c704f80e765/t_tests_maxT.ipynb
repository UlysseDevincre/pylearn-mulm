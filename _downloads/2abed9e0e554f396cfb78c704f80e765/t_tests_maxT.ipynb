{
  "nbformat_minor": 0,
  "metadata": {
    "kernelspec": {
      "display_name": "Python 3",
      "language": "python",
      "name": "python3"
    },
    "language_info": {
      "name": "python",
      "version": "3.5.2",
      "codemirror_mode": {
        "name": "ipython",
        "version": 3
      },
      "pygments_lexer": "ipython3",
      "file_extension": ".py",
      "mimetype": "text/x-python",
      "nbconvert_exporter": "python"
    }
  },
  "nbformat": 4,
  "cells": [
    {
      "outputs": [],
      "execution_count": null,
      "metadata": {
        "collapsed": false
      },
      "cell_type": "code",
      "source": [
        "%matplotlib inline"
      ]
    },
    {
      "metadata": {},
      "cell_type": "markdown",
      "source": [
        "\nT tests maxT\n============\n\nCredit: E Duchesnay\n\n"
      ]
    },
    {
      "outputs": [],
      "execution_count": null,
      "metadata": {
        "collapsed": false
      },
      "cell_type": "code",
      "source": [
        "import numpy as np\nimport mulm\nimport pylab as plt\n\nn = 100\npx = 5\npy_info = 2\npy_noize = 100\n\nbeta = np.array([1, 0, .5] + [0] * (px - 4) + [2]).reshape((px, 1))\nX = np.hstack([np.random.randn(n, px-1), np.ones((n, 1))]) # X with intercept\nY = np.random.randn(n, py_info + py_noize)\n# Causal model: add X on the first py_info variable\nY[:, :py_info] += np.dot(X, beta)\n\n# t-test all the regressors (by default mulm and sm do two-tailed tests)\ncontrasts = np.identity(X.shape[1])\n\nmod = mulm.MUOLS(Y, X)\ntvals, rawp, df = mod.fit().t_test(contrasts, pval=True, two_tailed=True)\ntvals, maxTpval, df2 = mod.t_test_maxT(contrasts, two_tailed=True)\n\nn, bins, patches = plt.hist([rawp[0,:], maxTpval[0,:]],\n                            color=['blue', 'red'],\n                            label=['rawp','maxTpval'])\nplt.legend()\nplt.show()"
      ]
    }
  ]
}