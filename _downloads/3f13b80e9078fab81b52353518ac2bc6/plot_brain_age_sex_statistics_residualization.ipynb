{
  "nbformat_minor": 0,
  "metadata": {
    "kernelspec": {
      "display_name": "Python 3",
      "language": "python",
      "name": "python3"
    },
    "language_info": {
      "name": "python",
      "version": "3.5.2",
      "codemirror_mode": {
        "name": "ipython",
        "version": 3
      },
      "pygments_lexer": "ipython3",
      "file_extension": ".py",
      "mimetype": "text/x-python",
      "nbconvert_exporter": "python"
    }
  },
  "nbformat": 4,
  "cells": [
    {
      "outputs": [],
      "execution_count": null,
      "metadata": {
        "collapsed": false
      },
      "cell_type": "code",
      "source": [
        "%matplotlib inline"
      ]
    },
    {
      "metadata": {},
      "cell_type": "markdown",
      "source": [
        "\nBrain & age statistics residuallization\n=======================================\n\nCredit: E Duchesnay\n\n"
      ]
    },
    {
      "outputs": [],
      "execution_count": null,
      "metadata": {
        "collapsed": false
      },
      "cell_type": "code",
      "source": [
        "# General\nimport os\nimport os.path\nimport glob\nimport numpy as np\nimport pandas as pd\nimport urllib.request\nimport tempfile\n\n# Images\nimport nibabel\nimport nilearn\nimport nilearn.image\nimport nilearn.plotting\n\n# MULM\nimport mulm\n\n# ML\nfrom sklearn import linear_model\nfrom sklearn.model_selection import KFold\nfrom sklearn.preprocessing import StandardScaler\nfrom sklearn.pipeline import make_pipeline\nfrom sklearn.model_selection import cross_validate\nfrom sklearn import metrics\n\n\nWD = tempfile.gettempdir()\n# WD = '/home/ed203246/data/brain_age_ixi'\nos.makedirs(os.path.join(WD, \"data\"), exist_ok=True)"
      ]
    },
    {
      "metadata": {},
      "cell_type": "markdown",
      "source": [
        "Download ixi anatomical VBM dataset\n-----------------------------------\n\n"
      ]
    },
    {
      "outputs": [],
      "execution_count": null,
      "metadata": {
        "collapsed": false
      },
      "cell_type": "code",
      "source": [
        "def fetch_data(files, dst, base_url, verbose=1):\n    \"\"\"Fetch dataset.\n\n    Args:\n        files (str): file.\n        dst (str): destination directory.\n        base_url (str): url, examples:\n\n\n            ftp://ftp.cea.fr/pub/unati/share/anat\n    Returns:\n        downloaded ([str, ]): paths to downloaded files.\n\n    \"\"\"\n    downloaded = []\n    for file in files:\n        src_filename = os.path.join(base_url, file)\n        dst_filename = os.path.join(dst, file)\n        if not os.path.exists(dst_filename):\n            if verbose:\n                print(\"Download: %s\" % src_filename)\n            urllib.request.urlretrieve(src_filename, dst_filename)\n        downloaded.append(dst_filename)\n    return downloaded\n\n\nfetch_data(files=['train_participants.csv', 'train_rois.csv', 'train_vbm.npz',\n                  'validation_participants.csv', 'validation_rois.csv', 'validation_vbm.npz',\n                  'mni_cerebrum-mask.nii.gz'],\n           dst=os.path.join(WD, \"data\"),\n           base_url='ftp://ftp.cea.fr/pub/unati/people/educhesnay/data/brain_anatomy_ixi/data',\n           verbose=1)\n\ndatasets = dict()\nfor filename in glob.glob(os.path.join(WD, \"data\", \"*.npz\")):\n    imgs_arr_zip = np.load(filename)\n    datasets[os.path.splitext(os.path.basename(filename))[0]] = \\\n        imgs_arr_zip['imgs_arr']\n\ndemo_train = pd.read_csv(os.path.join(WD, \"data/train_participants.csv\"))\ndemo_val = pd.read_csv(os.path.join(WD, \"data/validation_participants.csv\"))\n\n# VBM\nimgs_train = datasets['train_vbm'].squeeze()\nimgs_test = datasets['validation_vbm'].squeeze()\nprint(imgs_train.shape, imgs_test.shape)\n\n# Read mask\nmask_img = nibabel.load(os.path.join(WD, \"data\", \"mni_cerebrum-mask.nii.gz\"))\nmask_arr = mask_img.get_fdata() != 0\n\n# Apply mask\nX_train = imgs_train[:, mask_arr]\nX_test = imgs_test[:, mask_arr]"
      ]
    },
    {
      "metadata": {},
      "cell_type": "markdown",
      "source": [
        "Univariate statistics\n---------------------\n\n"
      ]
    },
    {
      "outputs": [],
      "execution_count": null,
      "metadata": {
        "collapsed": false
      },
      "cell_type": "code",
      "source": [
        "Z_train, t_contrasts, f_contrasts = mulm.design_matrix(formula=\"sex + age\", data=demo_train)\nmod_mulm = mulm.MUOLS(Y=X_train, X=Z_train).fit()\n\ndef flat_to_img(mask_img, flat_values):\n    val_arr = np.zeros(mask_img.get_fdata().shape)\n    val_arr[mask_img.get_fdata() != 0] = flat_values.squeeze()\n    return nilearn.image.new_img_like(mask_img, val_arr)\n\ntstat_sex, pval_sex, df_sex = mod_mulm.t_test(t_contrasts['sex'], pval=True)\ntstat_sex_img = flat_to_img(mask_img, tstat_sex.squeeze())\nnilearn.plotting.plot_stat_map(tstat_sex_img, title=\"sex\")\n\ntstat_age, pval_age, df_age = mod_mulm.t_test(t_contrasts['age'], pval=True)\ntstat_age_img = flat_to_img(mask_img, tstat_age.squeeze())\nnilearn.plotting.plot_stat_map(tstat_age_img, title=\"age\")"
      ]
    },
    {
      "metadata": {},
      "cell_type": "markdown",
      "source": [
        "Residualize on sex adjusted on age to predict the age using sklearn\n-------------------------------------------------------------------\n\n"
      ]
    },
    {
      "outputs": [],
      "execution_count": null,
      "metadata": {
        "collapsed": false
      },
      "cell_type": "code",
      "source": [
        "from mulm.residualizer import Residualizer\nfrom mulm.residualizer import ResidualizerEstimator\n\nlr = linear_model.Ridge(alpha=1)\nscaler = StandardScaler()\ncv = KFold(n_splits=5, random_state=42)\n\ny_train = demo_train[\"age\"].values\n\nresidualizer = Residualizer(data=demo_train, formula_res='sex',\n                            formula_full='sex + age')\n# Extract design matrix and pack it with X\nZ_train = residualizer.get_design_mat(data=demo_train)\n\n# Wrap the residualizer\nresidualizer_wrapper = ResidualizerEstimator(residualizer)\nZX_train = residualizer_wrapper.pack(Z_train, X_train)\n\npipeline = make_pipeline(residualizer_wrapper, StandardScaler(), lr)\ncv_res = cross_validate(estimator=pipeline, X=ZX_train, y=y_train, cv=cv, n_jobs=5,\n                        scoring=['r2', 'neg_mean_absolute_error'])\n\nr2 = cv_res['test_r2'].mean()\nmae = np.mean(-cv_res['test_neg_mean_absolute_error'])\nprint(\"CV R2:%.4f, MAE:%.4f\" % (r2, mae))"
      ]
    }
  ]
}