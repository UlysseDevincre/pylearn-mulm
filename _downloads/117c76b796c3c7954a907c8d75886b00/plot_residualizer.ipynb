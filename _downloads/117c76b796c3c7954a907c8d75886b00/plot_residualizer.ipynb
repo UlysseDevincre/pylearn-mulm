{
  "nbformat_minor": 0,
  "metadata": {
    "kernelspec": {
      "display_name": "Python 3",
      "language": "python",
      "name": "python3"
    },
    "language_info": {
      "name": "python",
      "version": "3.5.2",
      "codemirror_mode": {
        "name": "ipython",
        "version": 3
      },
      "pygments_lexer": "ipython3",
      "file_extension": ".py",
      "mimetype": "text/x-python",
      "nbconvert_exporter": "python"
    }
  },
  "nbformat": 4,
  "cells": [
    {
      "outputs": [],
      "execution_count": null,
      "metadata": {
        "collapsed": false
      },
      "cell_type": "code",
      "source": [
        "%matplotlib inline"
      ]
    },
    {
      "metadata": {},
      "cell_type": "markdown",
      "source": [
        "\nResidualizer\n============\n\nCredit: E Duchesnay\n\nResidualization of a Y data on possibly adjusted for other variables.\n\nSuppose we have 3 variable:\n- site : contains a site effect\n- age: some uniform value plus some site effect\n- y = -0.1 * age + site + eps\n\nThe goal is to remove the site effect while preserving the age effect.\n\n"
      ]
    },
    {
      "metadata": {},
      "cell_type": "markdown",
      "source": [
        "Import\n\n"
      ]
    },
    {
      "outputs": [],
      "execution_count": null,
      "metadata": {
        "collapsed": false
      },
      "cell_type": "code",
      "source": [
        "import numpy as np\nimport pandas as pd\nimport scipy.stats as stats\nfrom mulm.residualizer import Residualizer\nimport seaborn as sns\n\nnp.random.seed(1)"
      ]
    },
    {
      "metadata": {},
      "cell_type": "markdown",
      "source": [
        "Dataset with site effect on age\nBefore residualization on site. The association between y and age is affected\nby site.\n\n"
      ]
    },
    {
      "outputs": [],
      "execution_count": null,
      "metadata": {
        "collapsed": false
      },
      "cell_type": "code",
      "source": [
        "site = np.array([-1] * 50 + [1] * 50)\nage = np.random.uniform(10, 40, size=100) + 5 * site\ny = -0.1 * age + site + np.random.normal(size=100)\ndata = pd.DataFrame(dict(y=y, age=age, site=site.astype(object)))\n\nsns.lmplot(x=\"age\", y=\"y\", hue=\"site\", data=data)"
      ]
    },
    {
      "metadata": {},
      "cell_type": "markdown",
      "source": [
        "Simple residualization on site. Better, but removing site effect also remove\nage effect\n\n"
      ]
    },
    {
      "outputs": [],
      "execution_count": null,
      "metadata": {
        "collapsed": false
      },
      "cell_type": "code",
      "source": [
        "res_spl = Residualizer(data=data, formula_res=\"site\")\nX = res_spl.get_design_mat(data)\nprint(\"Design mat contains intercept and site:\")\nprint(X[:5, :])\nyres = res_spl.fit_transform(y[:, None], X)\ndata[\"yres\"] = yres\nsns.lmplot(x=\"age\", y=\"yres\", hue=\"site\", data=data)"
      ]
    },
    {
      "metadata": {},
      "cell_type": "markdown",
      "source": [
        "Site residualization adjusted for age provides higher correlation, and\nlower stderr than simple residualization.\n\n"
      ]
    },
    {
      "outputs": [],
      "execution_count": null,
      "metadata": {
        "collapsed": false
      },
      "cell_type": "code",
      "source": [
        "res_adj = Residualizer(data, formula_res=\"site\", formula_full=\"age + site\")\nX = res_adj.get_design_mat(data)\nprint(\"Design mat contains intercept, site and age\")\nprint(X[:5, :])\nprint(\"Residualisation contrast (intercept, site):\")\nprint(res_adj.contrast_res)\n\nyadj = res_adj.fit_transform(y[:, None], X)\n\nlm_res = stats.linregress(age, yres.ravel())\nlm_adj = stats.linregress(age, yadj.ravel())\n\nnp.allclose((lm_res.slope, lm_res.rvalue, lm_res.stderr),\n            (-0.079187578, -0.623733003, 0.0100242219))\n\nnp.allclose((lm_adj.slope, lm_adj.rvalue, lm_adj.stderr),\n            (-0.110779913, -0.7909219758, 0.00865778640))\n\ndata[\"yadj\"] = yadj\nsns.lmplot(x=\"age\", y=\"yadj\", hue=\"site\", data=data)"
      ]
    }
  ]
}